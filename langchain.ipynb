{
 "cells": [
  {
   "cell_type": "markdown",
   "metadata": {},
   "source": [
    "### Open AI"
   ]
  },
  {
   "cell_type": "code",
   "execution_count": 1,
   "metadata": {},
   "outputs": [],
   "source": [
    "#from langchain.llms import OpenAI\n",
    "from langchain_openai import OpenAI"
   ]
  },
  {
   "cell_type": "code",
   "execution_count": 2,
   "metadata": {},
   "outputs": [],
   "source": [
    "import os\n",
    "os.environ['OPENAI_API_KEY']='Your open api key here'"
   ]
  },
  {
   "cell_type": "markdown",
   "metadata": {},
   "source": [
    "#### Temperature value (How creative we want the model to be)\n",
    "\n",
    "1.  0 ---> It means the model is very safe and it not taking any bets.\n",
    "2.  1 ---> It means the model will take risks and might generate wrong output. "
   ]
  },
  {
   "cell_type": "code",
   "execution_count": 3,
   "metadata": {},
   "outputs": [],
   "source": [
    "llm = OpenAI(openai_api_key=os.environ['OPENAI_API_KEY'],temperature=0.6)"
   ]
  },
  {
   "cell_type": "code",
   "execution_count": 4,
   "metadata": {},
   "outputs": [
    {
     "name": "stderr",
     "output_type": "stream",
     "text": [
      "f:\\Data Science\\Langchain\\venv\\lib\\site-packages\\langchain_core\\_api\\deprecation.py:117: LangChainDeprecationWarning: The function `predict` was deprecated in LangChain 0.1.7 and will be removed in 0.2.0. Use invoke instead.\n",
      "  warn_deprecated(\n"
     ]
    },
    {
     "name": "stdout",
     "output_type": "stream",
     "text": [
      "\n",
      "\n",
      "The capital of India is New Delhi.\n"
     ]
    }
   ],
   "source": [
    "text = 'What is the capital of india'\n",
    "\n",
    "print(llm.predict(text))"
   ]
  },
  {
   "cell_type": "code",
   "execution_count": 13,
   "metadata": {},
   "outputs": [],
   "source": [
    "os.environ['HUGGINGFACEHUB_API_TOKEN']='Your huggingfacehub api token here'"
   ]
  },
  {
   "cell_type": "markdown",
   "metadata": {},
   "source": [
    "### Hugging Face"
   ]
  },
  {
   "cell_type": "code",
   "execution_count": 17,
   "metadata": {},
   "outputs": [
    {
     "name": "stderr",
     "output_type": "stream",
     "text": [
      "f:\\Data Science\\Langchain\\venv\\lib\\site-packages\\huggingface_hub\\utils\\_deprecation.py:131: FutureWarning: 'InferenceApi' (from 'huggingface_hub.inference_api') is deprecated and will be removed from version '1.0'. `InferenceApi` client is deprecated in favor of the more feature-complete `InferenceClient`. Check out this guide to learn how to convert your script to use it: https://huggingface.co/docs/huggingface_hub/guides/inference#legacy-inferenceapi-client.\n",
      "  warnings.warn(warning_message, FutureWarning)\n"
     ]
    }
   ],
   "source": [
    "from langchain import HuggingFaceHub\n",
    "llm_huggingface = HuggingFaceHub(repo_id='google/flan-t5-large',model_kwargs={'temperature':0, 'max_length':64})"
   ]
  },
  {
   "cell_type": "code",
   "execution_count": 19,
   "metadata": {},
   "outputs": [
    {
     "name": "stdout",
     "output_type": "stream",
     "text": [
      "moscow\n"
     ]
    }
   ],
   "source": [
    "output = llm_huggingface.predict(\"Can you tell me the capital of Russia\")\n",
    "print(output)"
   ]
  },
  {
   "cell_type": "code",
   "execution_count": 22,
   "metadata": {},
   "outputs": [
    {
     "name": "stdout",
     "output_type": "stream",
     "text": [
      "i love the way i look at the world i love the way i feel i love the way i think i feel i love the way i feel i love the way i think i feel i love the way i feel i love the way \n"
     ]
    }
   ],
   "source": [
    "output = llm_huggingface.predict(\"Can you write a poem about AI\")\n",
    "print(output)"
   ]
  },
  {
   "cell_type": "code",
   "execution_count": 24,
   "metadata": {},
   "outputs": [
    {
     "name": "stdout",
     "output_type": "stream",
     "text": [
      "\n",
      "\n",
      "In the realm of technology\n",
      "Where science meets creativity\n",
      "There lies a creation so grand\n",
      "That it surpasses human hand\n",
      "\n",
      "It's a product of innovation\n",
      "A marvel of human imagination\n",
      "A machine with a mind of its own\n",
      "A new era has been shown\n",
      "\n",
      "Artificial Intelligence, they call it\n",
      "A concept that's hard to submit\n",
      "But in this digital age we thrive\n",
      "It's the future we must strive\n",
      "\n",
      "With algorithms and data\n",
      "It learns and grows even greater\n",
      "Able to reason and make decisions\n",
      "It's a marvel beyond our visions\n",
      "\n",
      "It can compute and analyze\n",
      "Faster than any human guise\n",
      "It can predict and anticipate\n",
      "A technology that's truly great\n",
      "\n",
      "But as it learns and evolves\n",
      "Some fear its power it involves\n",
      "Will it surpass us in intellect\n",
      "And leave us feeling inept?\n",
      "\n",
      "But let us not fear this creation\n",
      "For it's a product of our fascination\n",
      "It's a tool for us to progress\n",
      "And make our lives effortless\n",
      "\n",
      "So let us embrace AI\n",
      "And all its wonders amplify\n",
      "For in this world of endless possibility\n",
      "Artificial Intelligence is our reality.\n"
     ]
    }
   ],
   "source": [
    "print(llm.predict('Can you write a poem about AI'))"
   ]
  },
  {
   "cell_type": "markdown",
   "metadata": {},
   "source": [
    "### Prompt Templates LLMChain"
   ]
  },
  {
   "cell_type": "code",
   "execution_count": 52,
   "metadata": {},
   "outputs": [
    {
     "data": {
      "text/plain": [
       "'Tell me the captain of the team india cricket team'"
      ]
     },
     "execution_count": 52,
     "metadata": {},
     "output_type": "execute_result"
    }
   ],
   "source": [
    "from langchain.prompts import PromptTemplate \n",
    "\n",
    "prompt_template = PromptTemplate(input_variables = ['country'],\n",
    "        template = 'Tell me the captain of the {country} cricket team' )\n",
    "\n",
    "prompt_template .format(country = 'india')"
   ]
  },
  {
   "cell_type": "code",
   "execution_count": 53,
   "metadata": {},
   "outputs": [
    {
     "name": "stdout",
     "output_type": "stream",
     "text": [
      "\n",
      "\n",
      "As of 2021, the captain of the Indian cricket team is Virat Kohli.\n"
     ]
    }
   ],
   "source": [
    "from langchain.chains import LLMChain\n",
    "\n",
    "chain = LLMChain(llm = llm, prompt = prompt_template)\n",
    "output = chain.run('India')\n",
    "print(output)"
   ]
  },
  {
   "cell_type": "markdown",
   "metadata": {},
   "source": [
    "### Combining Multiple chains using Simple Sequential Chain"
   ]
  },
  {
   "cell_type": "code",
   "execution_count": 72,
   "metadata": {},
   "outputs": [],
   "source": [
    "cricket_prompt = PromptTemplate(input_variables = ['country'],\n",
    "    template = 'Please tell me the captain name of the {country} cricket team')\n",
    "\n",
    "cricket_chain = LLMChain(llm = llm, prompt = cricket_prompt)\n",
    "\n",
    "famous_template = PromptTemplate(input_variables = ['captain'],\n",
    "    template = 'How many matches win by {captain} as a captain')\n",
    "\n",
    "famous_chain = LLMChain(llm = llm, prompt = famous_template)"
   ]
  },
  {
   "cell_type": "code",
   "execution_count": 75,
   "metadata": {},
   "outputs": [
    {
     "name": "stdout",
     "output_type": "stream",
     "text": [
      ", Finch has won a total of 60 matches in all formats of international cricket (Test, ODI, and T20). \n"
     ]
    }
   ],
   "source": [
    "from langchain.chains import SimpleSequentialChain\n",
    "\n",
    "chain = SimpleSequentialChain(chains = [cricket_chain, famous_chain])\n",
    "output = chain.run('Australia')\n",
    "print(output)"
   ]
  },
  {
   "cell_type": "markdown",
   "metadata": {},
   "source": [
    "#### Sequential Chain"
   ]
  },
  {
   "cell_type": "code",
   "execution_count": 76,
   "metadata": {},
   "outputs": [],
   "source": [
    "cricket_prompt = PromptTemplate(input_variables = ['country'],\n",
    "    template = 'Please tell me the captain name of the {country} cricket team')\n",
    "\n",
    "cricket_chain = LLMChain(llm = llm, prompt = cricket_prompt, output_key = 'captain')\n",
    "\n",
    "famous_template = PromptTemplate(input_variables = ['captain'],\n",
    "    template = 'How many matches win by {captain} as a captain')\n",
    "\n",
    "famous_chain = LLMChain(llm = llm, prompt = famous_template, output_key = 'wins')"
   ]
  },
  {
   "cell_type": "code",
   "execution_count": 77,
   "metadata": {},
   "outputs": [],
   "source": [
    "from langchain.chains import SequentialChain\n",
    "\n",
    "chain = SequentialChain(chains = [cricket_chain, famous_chain], \n",
    "        input_variables = ['country'],\n",
    "        output_variables = ['captain', 'wins'])"
   ]
  },
  {
   "cell_type": "code",
   "execution_count": 78,
   "metadata": {},
   "outputs": [
    {
     "data": {
      "text/plain": [
       "{'country': 'Australia',\n",
       " 'captain': '\\n\\nThe current captain of the Australian cricket team is Tim Paine.',\n",
       " 'wins': '\\n\\nAs of September 2021, Tim Paine has won 21 matches as captain of the Australian cricket team.'}"
      ]
     },
     "execution_count": 78,
     "metadata": {},
     "output_type": "execute_result"
    }
   ],
   "source": [
    "chain({'country':'Australia'})"
   ]
  },
  {
   "cell_type": "markdown",
   "metadata": {},
   "source": [
    "### Chatmodels with ChatOpenAI"
   ]
  },
  {
   "cell_type": "code",
   "execution_count": 83,
   "metadata": {},
   "outputs": [],
   "source": [
    "from langchain_openai import ChatOpenAI\n",
    "#from langchain.chat_models import ChatOpenAI\n",
    "from langchain.schema import HumanMessage, SystemMessage, AIMessage"
   ]
  },
  {
   "cell_type": "code",
   "execution_count": 84,
   "metadata": {},
   "outputs": [],
   "source": [
    "chatllm = ChatOpenAI(openai_api_key=os.environ['OPEN_API_KEY'],temperature=0.6, model = 'gpt-3.5-turbo')"
   ]
  },
  {
   "cell_type": "code",
   "execution_count": 85,
   "metadata": {},
   "outputs": [
    {
     "name": "stderr",
     "output_type": "stream",
     "text": [
      "f:\\Data Science\\Langchain\\venv\\lib\\site-packages\\langchain_core\\_api\\deprecation.py:117: LangChainDeprecationWarning: The function `__call__` was deprecated in LangChain 0.1.7 and will be removed in 0.2.0. Use invoke instead.\n",
      "  warn_deprecated(\n"
     ]
    },
    {
     "data": {
      "text/plain": [
       "AIMessage(content=\"Here is a list of some upcoming international cricket matches:\\n\\n1. India vs England Test Series:\\n   - 1st Test: 4th-8th August 2021, Trent Bridge, Nottingham, England\\n   - 2nd Test: 12th-16th August 2021, Lord's, London, England\\n   - 3rd Test: 25th-29th August 2021, Headingley, Leeds, England\\n   - 4th Test: 2nd-6th September 2021, Kennington Oval, London, England\\n   - 5th Test: 10th-14th September 2021, Old Trafford, Manchester, England\\n\\n2. West Indies vs Pakistan T20I Series:\\n   - 1st T20I: 28th July 2021, Kensington Oval, Bridgetown, Barbados\\n   - 2nd T20I: 31st July 2021, Providence Stadium, Guyana\\n   - 3rd T20I: 1st August 2021, Providence Stadium, Guyana\\n\\n3. South Africa vs Ireland ODI Series:\\n   - 1st ODI: 11th July 2021, The Village, Dublin, Ireland\\n   - 2nd ODI: 13th July 2021, The Village, Dublin, Ireland\\n   - 3rd ODI: 16th July 2021, The Village, Dublin, Ireland\\n\\n4. Australia vs Bangladesh T20I Series:\\n   - 1st T20I: 3rd August 2021, Shere Bangla National Stadium, Dhaka, Bangladesh\\n   - 2nd T20I: 4th August 2021, Shere Bangla National Stadium, Dhaka, Bangladesh\\n   - 3rd T20I: 6th August 2021, Shere Bangla National Stadium, Dhaka, Bangladesh\\n\\nPlease note that this is not an exhaustive list, and there may be other matches scheduled as well. The schedule is subject to change, so it's always a good idea to check with official sources or cricket websites for the most up-to-date information.\")"
      ]
     },
     "execution_count": 85,
     "metadata": {},
     "output_type": "execute_result"
    }
   ],
   "source": [
    "chatllm([\n",
    "    SystemMessage(content = 'You are a cricketer AI assistant'),\n",
    "    HumanMessage(content = 'Please provide the upcomming international cricket matches list')\n",
    "])"
   ]
  },
  {
   "cell_type": "markdown",
   "metadata": {},
   "source": [
    "### Prompt Templates - LLM - Ouput Parsers "
   ]
  },
  {
   "cell_type": "code",
   "execution_count": 104,
   "metadata": {},
   "outputs": [],
   "source": [
    "from langchain.chat_models import ChatOpenAI\n",
    "from langchain.prompts.chat import ChatPromptTemplate\n",
    "from langchain.schema import BaseOutputParser\n"
   ]
  },
  {
   "cell_type": "code",
   "execution_count": 105,
   "metadata": {},
   "outputs": [],
   "source": [
    "chatllm = ChatOpenAI(openai_api_key=os.environ['OPEN_API_KEY'],temperature=0.6, model = 'gpt-3.5-turbo')"
   ]
  },
  {
   "cell_type": "code",
   "execution_count": 106,
   "metadata": {},
   "outputs": [],
   "source": [
    "class Commaseperatedouput(BaseOutputParser):\n",
    "    def parse(self, text:str):\n",
    "        return text.strip().split(',')"
   ]
  },
  {
   "cell_type": "code",
   "execution_count": 107,
   "metadata": {},
   "outputs": [],
   "source": [
    "template=\"Your are a helpful assistant. When the use given any input , you should generate 5 words synonyms in a comma seperated list\"\n",
    "human_template=\"{text}\"\n",
    "chatprompt=ChatPromptTemplate.from_messages([\n",
    "    (\"system\",template),\n",
    "    (\"human\",human_template)\n",
    "\n",
    "\n",
    "])"
   ]
  },
  {
   "cell_type": "code",
   "execution_count": 108,
   "metadata": {},
   "outputs": [],
   "source": [
    "chain = chatprompt|chatllm|Commaseperatedouput()"
   ]
  },
  {
   "cell_type": "code",
   "execution_count": 109,
   "metadata": {},
   "outputs": [
    {
     "data": {
      "text/plain": [
       "['smart', ' clever', ' knowledgeable', ' brilliant', ' sharp']"
      ]
     },
     "execution_count": 109,
     "metadata": {},
     "output_type": "execute_result"
    }
   ],
   "source": [
    "chain.invoke({\"text\":\"intelligent\"})"
   ]
  },
  {
   "cell_type": "code",
   "execution_count": null,
   "metadata": {},
   "outputs": [],
   "source": []
  }
 ],
 "metadata": {
  "kernelspec": {
   "display_name": "venv",
   "language": "python",
   "name": "python3"
  },
  "language_info": {
   "codemirror_mode": {
    "name": "ipython",
    "version": 3
   },
   "file_extension": ".py",
   "mimetype": "text/x-python",
   "name": "python",
   "nbconvert_exporter": "python",
   "pygments_lexer": "ipython3",
   "version": "3.10.0"
  }
 },
 "nbformat": 4,
 "nbformat_minor": 2
}
